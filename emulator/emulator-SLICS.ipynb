{
 "cells": [
  {
   "cell_type": "code",
   "execution_count": 1,
   "id": "cec1f871-531d-4d82-8e1f-7f8422d8644c",
   "metadata": {},
   "outputs": [],
   "source": [
    "import numpy as np\n",
    "from matplotlib import pyplot as plt\n",
    "from pylab import *\n",
    "from scipy.stats import norm\n",
    "from scipy.stats import uniform\n",
    "from astropy.io import fits\n",
    "from astropy import units as u\n",
    "import os\n",
    "from IPython.display import Image\n",
    "%matplotlib inline"
   ]
  },
  {
   "cell_type": "code",
   "execution_count": 2,
   "id": "43bfb1ed-053a-45df-9b4f-e393f73cbad8",
   "metadata": {},
   "outputs": [],
   "source": [
    "from sklearn.gaussian_process import GaussianProcessRegressor\n",
    "from sklearn.gaussian_process.kernels import RBF, ConstantKernel as C\n",
    "from sklearn import decomposition"
   ]
  },
  {
   "cell_type": "markdown",
   "id": "2058b599-2b47-4cb7-aba8-be1b4d4f6244",
   "metadata": {},
   "source": [
    "## In this notebook, we build an emulator using SLICS and cosmo-SLICS simulation"
   ]
  },
  {
   "cell_type": "code",
   "execution_count": 10,
   "id": "b2c8a2a4-81f2-46f7-abc6-b6b11dec19ee",
   "metadata": {},
   "outputs": [],
   "source": [
    "############################################################\n",
    "########### set the file path to already computed stats \n",
    "############################################################\n",
    "root = '/global/u1/j/jialiu/NGphotoz/'\n",
    "dir_storage = root+'NGphotoz_scratch/'\n",
    "dir_cosmos = dir_storage+'Cosmo_maps/'\n",
    "dir_cov = dir_storage+'Cov_maps/'"
   ]
  },
  {
   "cell_type": "code",
   "execution_count": 5,
   "id": "3fd4e98a-0428-4b2b-8123-be83827b4134",
   "metadata": {},
   "outputs": [
    {
     "name": "stdout",
     "output_type": "stream",
     "text": [
      "['00_a', '01_a', '02_a', '03_a', '04_a', '05_a', '06_a', '07_a', '08_a', '09_a', '10_a', '11_a', '12_a', '13_a', '14_a', '15_a', '16_a', '17_a', '18_a', '19_a', '20_a', '21_a', '22_a', '23_a', '24_a', '00_f', '01_f', '02_f', '03_f', '04_f', '05_f', '06_f', '07_f', '08_f', '09_f', '10_f', '11_f', '12_f', '13_f', '14_f', '15_f', '16_f', '17_f', '18_f', '19_f', '20_f', '21_f', '22_f', '23_f', '24_f', 'fid_a', 'fid_f']\n"
     ]
    }
   ],
   "source": [
    "#############################################\n",
    "##### parameters for smoothing and tomography\n",
    "#############################################\n",
    "\n",
    "##### smoothing scales in arcmin\n",
    "theta_g_arr = [1,5,10]\n",
    "\n",
    "##### tomographic bins\n",
    "zarr = np.linspace(0,4, 501)\n",
    "delta_z = 0.5\n",
    "tomo_centers = np.arange(0.5, 3, delta_z) ## center for each redshift bin\n",
    "tomo_arr = range(1,6) ## this is used for file name\n",
    "\n",
    "####### 26 different cosmologies\n",
    "####### Parameters are the same for seed _a and seed _f, only the IC differ.\n",
    "cosmos = [ '%02d_%s'%(i, j) for j in ['a','f'] for i in range(25)]\n",
    "cosmos += ['fid_a', 'fid_f']\n",
    "print (cosmos)\n",
    "\n",
    "####### light cone numbers\n",
    "### lightcones: The LOS number runs from 74 to 1100, with some missing LOS. You will have 954 in total. \n",
    "\n",
    "cones_cov_full = arange(74, 1100)\n",
    "cones_cosmo = arange(1,6)"
   ]
  },
  {
   "cell_type": "code",
   "execution_count": 8,
   "id": "de6307c6-df8b-4192-a9be-b98143547fa2",
   "metadata": {},
   "outputs": [
    {
     "name": "stdout",
     "output_type": "stream",
     "text": [
      "(26, 6)\n"
     ]
    }
   ],
   "source": [
    "################################\n",
    "###### cosmological parameters\n",
    "################################\n",
    "\n",
    "cosmo_params = np.genfromtxt(root+'CosmoTable.dat')\n",
    "print (cosmo_params.shape)\n",
    "\n",
    "IDs, Om_arr, h_arr, w0_arr, si8_arr, Oc_arr = cosmo_params.T \n",
    "##### we only care about Omega_m (Om_arr), h, w, and sigma8 (si8)"
   ]
  },
  {
   "cell_type": "code",
   "execution_count": 6,
   "id": "e061098e-5ba6-4426-bbef-9eb90b7a2a10",
   "metadata": {},
   "outputs": [],
   "source": [
    "################################################################\n",
    "### functions to open the (alreacy computed) statistics\n",
    "################################################################\n",
    "\n",
    "def stats_gen_true (theta_g, tomo, cone):\n",
    "    ipz='pz_true.txt'\n",
    "    fn = dir_bias+'bias%s_tomo%i_cone%s_s%i.npy'%(ipz, tomo, cone, theta_g)\n",
    "    return np.load(fn)\n",
    "\n",
    "def stats_gen_cov (theta_g, tomo, cone): #### cone goes from 74 to 1099, missing some, total 953\n",
    "    fn = dir_cov+'cov_tomo%i_cone%s_s%i.npy'%(tomo, cone, theta_g)\n",
    "    return np.load(fn)\n",
    "\n",
    "def stats_gen_cosmo (cosmo, theta_g, tomo, cone): \n",
    "    fn = dir_cosmos+'/%s_tomo%i_cone%s_s%i.npy'%(cosmo, tomo, cone, theta_g)\n",
    "    return np.load(fn)"
   ]
  },
  {
   "cell_type": "code",
   "execution_count": 11,
   "id": "c99cb93c-e386-45f9-bec5-047a29e956bc",
   "metadata": {},
   "outputs": [
    {
     "name": "stdout",
     "output_type": "stream",
     "text": [
      "(26, 10, 3, 5, 11, 10)\n"
     ]
    }
   ],
   "source": [
    "################################################################\n",
    "### get measured statistics for cosmology-varying SLICS\n",
    "################################################################\n",
    "\n",
    "stats_raw = np.array([[[[stats_gen_cosmo(cosmo, theta_g, tomo, cone)\n",
    "                        for tomo in tomo_arr] ## 5 tomo bins\n",
    "                        for theta_g in theta_g_arr] ## 3 theta_g\n",
    "                         for cone in cones_cosmo] ## 5 cones\n",
    "                        for cosmo in cosmos] ## 2 seeds x 26 cosmos \n",
    "                       )\n",
    "\n",
    "stats_cosmo = concatenate(stats_raw.reshape(2, 26, 5, 3, 5, 11, 10), axis=1)\n",
    "print (stats_cosmo.shape)\n",
    "####### axies: [26 cosmo, 10 realizations, 3 smoothing, 5 tomo bins, 11 stats/bin centers, 10 bins]\n",
    "\n",
    "## the 11 stats/bins center are: \n",
    "## ell, ps_noiseless, ps_unsmoothed, ps_smoothed, kappa, peaks, minima, pdf, mf0, mf1, mf2\n",
    "\n",
    "## more specifically (with index):\n",
    "## ell(0), ps_noiseless(1), ps_unsmoothed(2), ps_smoothed(3), kappa(4), \n",
    "## peaks(5), minima(6), pdf(7), mf0(8), mf1(9), mf2(10)"
   ]
  },
  {
   "cell_type": "markdown",
   "id": "a8225d4f-8377-4663-9a8e-0899d11e25e5",
   "metadata": {},
   "source": [
    "## Next, we building GP using sklearn \n",
    "#### following https://scikit-learn.org/stable/auto_examples/gaussian_process/plot_gpr_noisy_targets.html\n"
   ]
  },
  {
   "cell_type": "code",
   "execution_count": 16,
   "id": "ddbe934d-9f00-40d4-83c1-5e3c608e1844",
   "metadata": {},
   "outputs": [
    {
     "name": "stdout",
     "output_type": "stream",
     "text": [
      "input_arr.shape: (26, 10, 10)\n",
      "(26, 10) (26, 10) (10,)\n"
     ]
    }
   ],
   "source": [
    "################################################################\n",
    "### for test, use only 1 stat, 1 smoothing, and 1 tomographic bins\n",
    "################################################################\n",
    "\n",
    "itomo = 2 ## z=1.5\n",
    "ismooth= 1 ## smoothing=5 arcmin\n",
    "istat = 5 ## peaks\n",
    "\n",
    "input_arr = stats_cosmo[:, :, ismooth, itomo, istat, :] ### peak counts, smoothing=5 (index=1), tomo bin = itomo\n",
    "print ('input_arr.shape:', input_arr.shape)\n",
    "\n",
    "kappa = stats_cosmo[0, 0, ismooth, itomo, 4, :]\n",
    "\n",
    "##### compute the mean and standard deviation of the 26 cosmologies \n",
    "imean = mean(input_arr, axis=1).reshape(26,-1)\n",
    "istd = std(input_arr, axis=1).reshape(26,-1)\n",
    "\n",
    "####### each should have 26 x 10 shape, kappa should have 10 bins\n",
    "print (imean.shape, istd.shape, kappa.shape)"
   ]
  },
  {
   "cell_type": "code",
   "execution_count": 25,
   "id": "dbc72fff-f69d-4cd9-b49b-0a266bf25404",
   "metadata": {},
   "outputs": [
    {
     "name": "stdout",
     "output_type": "stream",
     "text": [
      "The number of nonzero bins left: 6\n"
     ]
    }
   ],
   "source": [
    "################################################################\n",
    "### use only 1 stats, 1 smoothing, and 1 tomographic bins\n",
    "################################################################\n",
    "# idx=where(imean[-1]>0)[0] ## this one makes sure the fiducial cosmology has nonzero counts\n",
    "idx=where(amin(imean,axis=0)>0)[0] ## this one all cosmology has nonzero counts\n",
    "print ('The number of nonzero bins left:', len(idx))"
   ]
  },
  {
   "cell_type": "code",
   "execution_count": 26,
   "id": "0ca72aa8-8d64-4225-878d-a60bf4834d42",
   "metadata": {},
   "outputs": [
    {
     "name": "stdout",
     "output_type": "stream",
     "text": [
      "cosmo parameters shape (N_cosmology, N_parameters): (26, 4)\n",
      "full set mean (N_cosmology, N_bins): (26, 6)\n",
      "full set std  (N_cosmology, N_bins): (26, 6)\n",
      "[ 0.2905  0.6898 -1.      0.8364]\n"
     ]
    }
   ],
   "source": [
    "#################################\n",
    "#### building GP \n",
    "##################################\n",
    "              \n",
    "##### cosmological parameters, only using Om_arr, h_arr, w0_arr, si8_arr\n",
    "X = cosmo_params[:, 1:-1]\n",
    "print ('cosmo parameters shape (N_cosmology, N_parameters):', X.shape)\n",
    "\n",
    "##### observations and noise\n",
    "Y = imean[:,idx]\n",
    "dY = istd[:,idx]\n",
    "\n",
    "print ('full set mean (N_cosmology, N_bins):', Y.shape)\n",
    "print ('full set std  (N_cosmology, N_bins):', dY.shape)\n",
    "\n",
    "## remove 1 point from the training set for testing purpose\n",
    "Ntest = 25 ## cosmology #25 is the fiducial model\n",
    "Xtrue, Ytrue = X[Ntest], Y[Ntest]\n",
    "Xtest, Ytest, dYtest = [delete(arr, Ntest, axis=0) for arr in [X, Y, dY]]\n",
    "\n",
    "print (Xtrue)\n",
    "## add 1 dimension, somehow the GP code needs this\n",
    "Xtrue = expand_dims(Xtrue, axis=0) "
   ]
  },
  {
   "cell_type": "markdown",
   "id": "1ea1d384-7fd1-44cd-b51c-92bb5b6a4103",
   "metadata": {},
   "source": [
    "#### set up kernel and gp, need extensive tests on the kernel selection and gp parameters..."
   ]
  },
  {
   "cell_type": "code",
   "execution_count": 33,
   "id": "e94c6261-4b13-4050-9b18-6e49948e7745",
   "metadata": {},
   "outputs": [
    {
     "data": {
      "text/plain": [
       "(0.5, 1.5)"
      ]
     },
     "execution_count": 33,
     "metadata": {},
     "output_type": "execute_result"
    },
    {
     "data": {
      "image/png": "[encoded data removed]",
      "text/plain": [
       "<Figure size 432x288 with 1 Axes>"
      ]
     },
     "metadata": {
      "needs_background": "light"
     },
     "output_type": "display_data"
    }
   ],
   "source": [
    "kernel = C(1.0, (1e-5, 1e5)) * RBF(1.0, length_scale_bounds=(1e-2, 1e2))\n",
    "gp = GaussianProcessRegressor(kernel=kernel, n_restarts_optimizer=10, normalize_y=True)\n",
    "gp.fit(Xtest, Ytest)\n",
    "Ypred = gp.predict(Xtrue).ravel()\n",
    "plot(Ypred/Ytrue)\n",
    "plot(ones(len(idx)), 'k--')\n",
    "xlabel('bin number')\n",
    "ylabel('Y_pred/Y_true')\n",
    "ylim(0.5, 1.5)"
   ]
  },
  {
   "cell_type": "code",
   "execution_count": 37,
   "id": "abeef7a0-7669-4954-bb21-25ca7bae151a",
   "metadata": {},
   "outputs": [
    {
     "data": {
      "image/png": "[encoded data removed]",
      "text/plain": [
       "<Figure size 1080x288 with 3 Axes>"
      ]
     },
     "metadata": {
      "needs_background": "light"
     },
     "output_type": "display_data"
    }
   ],
   "source": [
    "################################################################\n",
    "#### some examples of tests... none of these works yet... \n",
    "#### the goals it to reach Y_pred = Y_true as closely as possible\n",
    "#################################################################\n",
    "\n",
    "figure(figsize=(15,4))\n",
    "Xstd=std(X, axis=0)\n",
    "\n",
    "######## test kernel\n",
    "subplot(131)\n",
    "for irbf in [1, 10, Xstd]:\n",
    "    kernel = C(1, (1e-3, 1e3)) * RBF(irbf, length_scale_bounds=(1e-2, 1e2)) \n",
    "    gp = GaussianProcessRegressor(kernel=kernel, n_restarts_optimizer=10, normalize_y=True)\n",
    "    gp.fit(Xtest, Ytest)\n",
    "    Ypred = gp.predict(Xtrue).ravel()\n",
    "    plot(Ypred/Ytrue, label='linear %s'%(irbf))\n",
    "plot(ones(len(idx)), 'k--')\n",
    "\n",
    "########## test log\n",
    "Ytest_log = log10(Ytest)\n",
    "kernel = C(1.0, (1e-3, 1e3)) * RBF(1, length_scale_bounds=(1e-2, 1e2))\n",
    "gp = GaussianProcessRegressor(kernel=kernel, n_restarts_optimizer=10, normalize_y=True)\n",
    "gp.fit(Xtest, Ytest_log)\n",
    "Ypred = gp.predict(Xtrue).ravel()\n",
    "plot(10**Ypred/Ytrue, label='log')\n",
    "\n",
    "title('no error / test linear vs log')\n",
    "xlabel('bin number')\n",
    "ylabel('Y_pred/Y_true')\n",
    "ylim(0.5, 1.5)\n",
    "legend()\n",
    "\n",
    "\n",
    "######## test kernel\n",
    "from sklearn.gaussian_process.kernels import DotProduct, WhiteKernel, Matern, ExpSineSquared, PairwiseKernel\n",
    "kernels = [DotProduct() + WhiteKernel(),  C() * RBF (), Matern (nu=1.5), ExpSineSquared(),PairwiseKernel()]\n",
    "kernel_names = ['DotProduct() + WhiteKernel()',  'C() * RBF ()', 'Matern (nu=1.5)', 'ExpSineSquared()', 'PairwiseKernel']\n",
    "subplot(132)\n",
    "\n",
    "for i in range(len(kernels)):\n",
    "    ikernel = kernels[i]\n",
    "    ikernel_name = kernel_names[i]\n",
    "    gp = GaussianProcessRegressor(kernel=ikernel, n_restarts_optimizer=10, normalize_y=True)\n",
    "    gp.fit(Xtest, Ytest)\n",
    "    Ypred = gp.predict(Xtrue).ravel()\n",
    "    plot(Ypred/Ytrue, label='%s'%(ikernel_name))\n",
    "plot(ones(len(idx)), 'k--')    \n",
    "title('no error / test kernels')\n",
    "xlabel('bin number')\n",
    "ylabel('Y_pred/Y_true')\n",
    "ylim(0.5, 1.5)\n",
    "legend()\n",
    "\n",
    "####### test optimization -- doesn't matter\n",
    "subplot(133)\n",
    "for Nopt in [10, 30, 100]:\n",
    "    kernel = C(1, (1e-3, 1e3)) * RBF(Xstd, length_scale_bounds=(1e-2, 1e2)) \n",
    "    gp = GaussianProcessRegressor(kernel=kernel, n_restarts_optimizer=Nopt, normalize_y=True)#, alpha=idY ** 2)\n",
    "    gp.fit(Xtest, Ytest)\n",
    "    Ypred = gp.predict(Xtrue).ravel()\n",
    "    plot(Ypred/Ytrue, label='n_optimize = %s'%(Nopt))\n",
    "plot(ones(len(idx)), 'k--')\n",
    "title('no error / test optimization')\n",
    "xlabel('bin number')\n",
    "ylabel('Y_pred/Y_true')\n",
    "ylim(0.5, 1.5)\n",
    "legend()\n",
    "show()"
   ]
  },
  {
   "cell_type": "code",
   "execution_count": null,
   "id": "f8e782b8-ef25-4ad1-b95b-ca5394316219",
   "metadata": {},
   "outputs": [],
   "source": []
  }
 ],
 "metadata": {
  "kernelspec": {
   "display_name": "Python 3",
   "language": "python",
   "name": "python3"
  },
  "language_info": {
   "codemirror_mode": {
    "name": "ipython",
    "version": 3
   },
   "file_extension": ".py",
   "mimetype": "text/x-python",
   "name": "python",
   "nbconvert_exporter": "python",
   "pygments_lexer": "ipython3",
   "version": "3.7.4"
  }
 },
 "nbformat": 4,
 "nbformat_minor": 5
}
